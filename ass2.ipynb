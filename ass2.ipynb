{
 "cells": [
  {
   "cell_type": "code",
   "execution_count": 36,
   "id": "de757fec-5bdc-488b-95c5-42e948b046f6",
   "metadata": {},
   "outputs": [
    {
     "data": {
      "text/plain": [
       "'\\nQ1. What are the three measures of central tendency?\\n'"
      ]
     },
     "execution_count": 36,
     "metadata": {},
     "output_type": "execute_result"
    }
   ],
   "source": [
    "'''\n",
    "Q1. What are the three measures of central tendency?\n",
    "'''"
   ]
  },
  {
   "cell_type": "code",
   "execution_count": 37,
   "id": "f729af56-7fc7-47f0-bc3d-9e6e809f85af",
   "metadata": {},
   "outputs": [
    {
     "data": {
      "text/plain": [
       "'\\nmeasure of central tendency are :\\n*mean (average)\\n* median\\n* mode\\n\\n'"
      ]
     },
     "execution_count": 37,
     "metadata": {},
     "output_type": "execute_result"
    }
   ],
   "source": [
    "'''\n",
    "measure of central tendency are :\n",
    "*mean (average)\n",
    "* median\n",
    "* mode\n",
    "\n",
    "'''"
   ]
  },
  {
   "cell_type": "code",
   "execution_count": 38,
   "id": "296ac7fb-3efb-4277-9035-1e6f77d0bb0a",
   "metadata": {},
   "outputs": [
    {
     "data": {
      "text/plain": [
       "'\\nQ2. What is the difference between the mean, median, and mode? How are they used to measure the\\ncentral tendency of a dataset?\\n'"
      ]
     },
     "execution_count": 38,
     "metadata": {},
     "output_type": "execute_result"
    }
   ],
   "source": [
    "'''\n",
    "Q2. What is the difference between the mean, median, and mode? How are they used to measure the\n",
    "central tendency of a dataset?\n",
    "'''"
   ]
  },
  {
   "cell_type": "code",
   "execution_count": 39,
   "id": "5d6f2974-2b60-459d-af0a-a2c25c2fb7ba",
   "metadata": {},
   "outputs": [],
   "source": [
    "'''\n",
    "mean : it is measure by  the sum  of all terms is divided by number of terms \n",
    "median : it is find mid of the term \n",
    "mode : it is help to find  that term which has  high frequency of repitation \n",
    "where median are measure by two type  : for even number term it can be calculate by ((n/2)th+(n/2+1)th)/2\n",
    "for odd number of term it can be caculateby (n+1)/2\n",
    "'''\n",
    "a=[1,2,3,3,54,5,4,7,8,8,6,5,45,6,4,4]"
   ]
  },
  {
   "cell_type": "code",
   "execution_count": 40,
   "id": "dfc6ad1d-cb7f-4b74-8684-ca1c36686b2f",
   "metadata": {},
   "outputs": [],
   "source": [
    "import pandas as pd"
   ]
  },
  {
   "cell_type": "code",
   "execution_count": 41,
   "id": "125c53e0-79e2-4b0e-88cf-464affba135c",
   "metadata": {},
   "outputs": [],
   "source": [
    "df= pd.DataFrame(a,columns=['a'])"
   ]
  },
  {
   "cell_type": "code",
   "execution_count": 42,
   "id": "0ab0a0ae-518d-4244-9726-770a1c5bd441",
   "metadata": {},
   "outputs": [
    {
     "data": {
      "text/plain": [
       "a    10.3125\n",
       "dtype: float64"
      ]
     },
     "execution_count": 42,
     "metadata": {},
     "output_type": "execute_result"
    }
   ],
   "source": [
    "df.mean()"
   ]
  },
  {
   "cell_type": "code",
   "execution_count": 43,
   "id": "c1121c15-7af1-467d-981f-4905445ba261",
   "metadata": {},
   "outputs": [
    {
     "data": {
      "text/plain": [
       "a    5.0\n",
       "dtype: float64"
      ]
     },
     "execution_count": 43,
     "metadata": {},
     "output_type": "execute_result"
    }
   ],
   "source": [
    "df.median()"
   ]
  },
  {
   "cell_type": "code",
   "execution_count": 44,
   "id": "32af4e91-63e4-4290-bd65-b1f5a9e86943",
   "metadata": {},
   "outputs": [
    {
     "data": {
      "text/html": [
       "<div>\n",
       "<style scoped>\n",
       "    .dataframe tbody tr th:only-of-type {\n",
       "        vertical-align: middle;\n",
       "    }\n",
       "\n",
       "    .dataframe tbody tr th {\n",
       "        vertical-align: top;\n",
       "    }\n",
       "\n",
       "    .dataframe thead th {\n",
       "        text-align: right;\n",
       "    }\n",
       "</style>\n",
       "<table border=\"1\" class=\"dataframe\">\n",
       "  <thead>\n",
       "    <tr style=\"text-align: right;\">\n",
       "      <th></th>\n",
       "      <th>a</th>\n",
       "    </tr>\n",
       "  </thead>\n",
       "  <tbody>\n",
       "    <tr>\n",
       "      <th>0</th>\n",
       "      <td>4</td>\n",
       "    </tr>\n",
       "  </tbody>\n",
       "</table>\n",
       "</div>"
      ],
      "text/plain": [
       "   a\n",
       "0  4"
      ]
     },
     "execution_count": 44,
     "metadata": {},
     "output_type": "execute_result"
    }
   ],
   "source": [
    "df.mode()"
   ]
  },
  {
   "cell_type": "code",
   "execution_count": 45,
   "id": "8ae1f904-8f0f-4b0e-b3bf-551e53ef4851",
   "metadata": {},
   "outputs": [
    {
     "data": {
      "text/plain": [
       "'\\nQ3. Measure the three measures of central tendency for the given height data:\\n[178,177,176,177,178.2,178,175,179,180,175,178.9,176.2,177,172.5,178,176.5]\\n'"
      ]
     },
     "execution_count": 45,
     "metadata": {},
     "output_type": "execute_result"
    }
   ],
   "source": [
    "'''\n",
    "Q3. Measure the three measures of central tendency for the given height data:\n",
    "[178,177,176,177,178.2,178,175,179,180,175,178.9,176.2,177,172.5,178,176.5]\n",
    "'''"
   ]
  },
  {
   "cell_type": "code",
   "execution_count": 46,
   "id": "3ee79741-0065-4ba9-ac71-0a2d220793bc",
   "metadata": {},
   "outputs": [],
   "source": [
    "data =[178,177,176,177,178.2,178,175,179,180,175,178.9,176.2,177,172.5,178,176.5]"
   ]
  },
  {
   "cell_type": "code",
   "execution_count": 47,
   "id": "7cd89a2b-1921-49ae-9ebb-b78b937e76cb",
   "metadata": {},
   "outputs": [],
   "source": [
    "df=pd.DataFrame(data,columns=[\"A\"])"
   ]
  },
  {
   "cell_type": "code",
   "execution_count": 48,
   "id": "16ffb0c4-db6f-482b-9a5a-e05a8a6deb3e",
   "metadata": {},
   "outputs": [
    {
     "data": {
      "text/plain": [
       "A    177.01875\n",
       "dtype: float64"
      ]
     },
     "execution_count": 48,
     "metadata": {},
     "output_type": "execute_result"
    }
   ],
   "source": [
    "df.mean()"
   ]
  },
  {
   "cell_type": "code",
   "execution_count": 49,
   "id": "afcf4601-f1c6-4a02-8231-cb792c9dace4",
   "metadata": {},
   "outputs": [
    {
     "data": {
      "text/plain": [
       "A    177.0\n",
       "dtype: float64"
      ]
     },
     "execution_count": 49,
     "metadata": {},
     "output_type": "execute_result"
    }
   ],
   "source": [
    "df.median()"
   ]
  },
  {
   "cell_type": "code",
   "execution_count": 50,
   "id": "1099207e-6369-4696-990b-0233a66343ea",
   "metadata": {},
   "outputs": [
    {
     "data": {
      "text/html": [
       "<div>\n",
       "<style scoped>\n",
       "    .dataframe tbody tr th:only-of-type {\n",
       "        vertical-align: middle;\n",
       "    }\n",
       "\n",
       "    .dataframe tbody tr th {\n",
       "        vertical-align: top;\n",
       "    }\n",
       "\n",
       "    .dataframe thead th {\n",
       "        text-align: right;\n",
       "    }\n",
       "</style>\n",
       "<table border=\"1\" class=\"dataframe\">\n",
       "  <thead>\n",
       "    <tr style=\"text-align: right;\">\n",
       "      <th></th>\n",
       "      <th>A</th>\n",
       "    </tr>\n",
       "  </thead>\n",
       "  <tbody>\n",
       "    <tr>\n",
       "      <th>0</th>\n",
       "      <td>177.0</td>\n",
       "    </tr>\n",
       "    <tr>\n",
       "      <th>1</th>\n",
       "      <td>178.0</td>\n",
       "    </tr>\n",
       "  </tbody>\n",
       "</table>\n",
       "</div>"
      ],
      "text/plain": [
       "       A\n",
       "0  177.0\n",
       "1  178.0"
      ]
     },
     "execution_count": 50,
     "metadata": {},
     "output_type": "execute_result"
    }
   ],
   "source": [
    "df.mode()"
   ]
  },
  {
   "cell_type": "code",
   "execution_count": 51,
   "id": "75facee2-f19c-41cd-916f-87c571c2f358",
   "metadata": {},
   "outputs": [
    {
     "data": {
      "text/plain": [
       "'\\nQ4. Find the standard deviation for the given data:\\n[178,177,176,177,178.2,178,175,179,180,175,178.9,176.2,177,172.5,178,176.5]\\n'"
      ]
     },
     "execution_count": 51,
     "metadata": {},
     "output_type": "execute_result"
    }
   ],
   "source": [
    "'''\n",
    "Q4. Find the standard deviation for the given data:\n",
    "[178,177,176,177,178.2,178,175,179,180,175,178.9,176.2,177,172.5,178,176.5]\n",
    "'''"
   ]
  },
  {
   "cell_type": "code",
   "execution_count": 52,
   "id": "6678a603-aff9-4b58-835a-c43492b18b3b",
   "metadata": {},
   "outputs": [
    {
     "data": {
      "text/plain": [
       "1.7885814036548633"
      ]
     },
     "execution_count": 52,
     "metadata": {},
     "output_type": "execute_result"
    }
   ],
   "source": [
    "'''\n",
    "measure of dispersion can be doone by two type such as :\n",
    "* variance \n",
    "* standard deviation \n",
    "variance are two type :\n",
    "# population variance       # sample variance\n",
    "standart deviation also be divided by two type :\n",
    "# population standard deviation    # population standard deviation\n",
    "/////////////\n",
    "variance\n",
    "# population variance can be calculated by this formula :\n",
    "(variance)**2= ((xi-population_mean )**2)/population size\n",
    "where population size is :N\n",
    "# sample variance can be calculated by :\n",
    "(sample variance)**2 = ((xi -sample_mean)**2)/sample_size \n",
    "where sample size =n-1\n",
    "////////////////\n",
    " standard deviation \n",
    "# population standard deviation : sqrt root of population variance\n",
    "# sample  standard deviation : sqrt root of sample variance\n",
    "'''\n",
    "import numpy as np\n",
    "data =[178,177,176,177,178.2,178,175,179,180,175,178.9,176.2,177,172.5,178,176.5]\n",
    "np.std(data)"
   ]
  },
  {
   "cell_type": "code",
   "execution_count": 53,
   "id": "2c1a4d87-decc-4c66-95fd-29bae7d5e577",
   "metadata": {},
   "outputs": [
    {
     "data": {
      "text/plain": [
       "'\\nQ5. How are measures of dispersion such as range, variance, and standard deviation used to describe\\nthe spread of a dataset? Provide an example.\\n'"
      ]
     },
     "execution_count": 53,
     "metadata": {},
     "output_type": "execute_result"
    }
   ],
   "source": [
    "'''\n",
    "Q5. How are measures of dispersion such as range, variance, and standard deviation used to describe\n",
    "the spread of a dataset? Provide an example.\n",
    "'''"
   ]
  },
  {
   "cell_type": "code",
   "execution_count": 54,
   "id": "0bdbb0dd-4a04-4476-b7d8-b75a38cf28b4",
   "metadata": {},
   "outputs": [],
   "source": [
    "import seaborn as sns\n",
    "tips =sns.load_dataset('tips')"
   ]
  },
  {
   "cell_type": "code",
   "execution_count": 55,
   "id": "90aaeca4-70a4-41e5-b55a-8fe678214de0",
   "metadata": {},
   "outputs": [
    {
     "data": {
      "text/html": [
       "<div>\n",
       "<style scoped>\n",
       "    .dataframe tbody tr th:only-of-type {\n",
       "        vertical-align: middle;\n",
       "    }\n",
       "\n",
       "    .dataframe tbody tr th {\n",
       "        vertical-align: top;\n",
       "    }\n",
       "\n",
       "    .dataframe thead th {\n",
       "        text-align: right;\n",
       "    }\n",
       "</style>\n",
       "<table border=\"1\" class=\"dataframe\">\n",
       "  <thead>\n",
       "    <tr style=\"text-align: right;\">\n",
       "      <th></th>\n",
       "      <th>total_bill</th>\n",
       "      <th>tip</th>\n",
       "      <th>sex</th>\n",
       "      <th>smoker</th>\n",
       "      <th>day</th>\n",
       "      <th>time</th>\n",
       "      <th>size</th>\n",
       "    </tr>\n",
       "  </thead>\n",
       "  <tbody>\n",
       "    <tr>\n",
       "      <th>0</th>\n",
       "      <td>16.99</td>\n",
       "      <td>1.01</td>\n",
       "      <td>Female</td>\n",
       "      <td>No</td>\n",
       "      <td>Sun</td>\n",
       "      <td>Dinner</td>\n",
       "      <td>2</td>\n",
       "    </tr>\n",
       "    <tr>\n",
       "      <th>1</th>\n",
       "      <td>10.34</td>\n",
       "      <td>1.66</td>\n",
       "      <td>Male</td>\n",
       "      <td>No</td>\n",
       "      <td>Sun</td>\n",
       "      <td>Dinner</td>\n",
       "      <td>3</td>\n",
       "    </tr>\n",
       "    <tr>\n",
       "      <th>2</th>\n",
       "      <td>21.01</td>\n",
       "      <td>3.50</td>\n",
       "      <td>Male</td>\n",
       "      <td>No</td>\n",
       "      <td>Sun</td>\n",
       "      <td>Dinner</td>\n",
       "      <td>3</td>\n",
       "    </tr>\n",
       "    <tr>\n",
       "      <th>3</th>\n",
       "      <td>23.68</td>\n",
       "      <td>3.31</td>\n",
       "      <td>Male</td>\n",
       "      <td>No</td>\n",
       "      <td>Sun</td>\n",
       "      <td>Dinner</td>\n",
       "      <td>2</td>\n",
       "    </tr>\n",
       "    <tr>\n",
       "      <th>4</th>\n",
       "      <td>24.59</td>\n",
       "      <td>3.61</td>\n",
       "      <td>Female</td>\n",
       "      <td>No</td>\n",
       "      <td>Sun</td>\n",
       "      <td>Dinner</td>\n",
       "      <td>4</td>\n",
       "    </tr>\n",
       "  </tbody>\n",
       "</table>\n",
       "</div>"
      ],
      "text/plain": [
       "   total_bill   tip     sex smoker  day    time  size\n",
       "0       16.99  1.01  Female     No  Sun  Dinner     2\n",
       "1       10.34  1.66    Male     No  Sun  Dinner     3\n",
       "2       21.01  3.50    Male     No  Sun  Dinner     3\n",
       "3       23.68  3.31    Male     No  Sun  Dinner     2\n",
       "4       24.59  3.61  Female     No  Sun  Dinner     4"
      ]
     },
     "execution_count": 55,
     "metadata": {},
     "output_type": "execute_result"
    }
   ],
   "source": [
    "tips.head()"
   ]
  },
  {
   "cell_type": "code",
   "execution_count": 56,
   "id": "d9d5b2df-e43f-4795-8b14-afd52d81c209",
   "metadata": {},
   "outputs": [
    {
     "name": "stderr",
     "output_type": "stream",
     "text": [
      "/tmp/ipykernel_114/2309071506.py:1: FutureWarning: The default value of numeric_only in DataFrame.std is deprecated. In a future version, it will default to False. In addition, specifying 'numeric_only=None' is deprecated. Select only valid columns or specify the value of numeric_only to silence this warning.\n",
      "  tips.std()\n"
     ]
    },
    {
     "data": {
      "text/plain": [
       "total_bill    8.902412\n",
       "tip           1.383638\n",
       "size          0.951100\n",
       "dtype: float64"
      ]
     },
     "execution_count": 56,
     "metadata": {},
     "output_type": "execute_result"
    }
   ],
   "source": [
    "tips.std()\n"
   ]
  },
  {
   "cell_type": "code",
   "execution_count": 57,
   "id": "f8cba64e-19d4-42bf-a7b9-cc81d8403355",
   "metadata": {},
   "outputs": [
    {
     "name": "stderr",
     "output_type": "stream",
     "text": [
      "/tmp/ipykernel_114/1695256253.py:1: FutureWarning: The default value of numeric_only in DataFrame.var is deprecated. In a future version, it will default to False. In addition, specifying 'numeric_only=None' is deprecated. Select only valid columns or specify the value of numeric_only to silence this warning.\n",
      "  tips.var()\n"
     ]
    },
    {
     "data": {
      "text/plain": [
       "total_bill    79.252939\n",
       "tip            1.914455\n",
       "size           0.904591\n",
       "dtype: float64"
      ]
     },
     "execution_count": 57,
     "metadata": {},
     "output_type": "execute_result"
    }
   ],
   "source": [
    "tips.var()"
   ]
  },
  {
   "cell_type": "code",
   "execution_count": 58,
   "id": "4dd59533-12c9-444c-8f47-fc8bf4bd6a0a",
   "metadata": {},
   "outputs": [
    {
     "data": {
      "text/plain": [
       "'\\nQ6. What is a Venn diagram?\\n'"
      ]
     },
     "execution_count": 58,
     "metadata": {},
     "output_type": "execute_result"
    }
   ],
   "source": [
    "'''\n",
    "Q6. What is a Venn diagram?\n",
    "'''"
   ]
  },
  {
   "cell_type": "code",
   "execution_count": 59,
   "id": "0a1c3527-1fe5-4232-a78f-dfb6b754a998",
   "metadata": {},
   "outputs": [
    {
     "data": {
      "text/plain": [
       "'\\nvenn diagram are used to represent all posible relation between set\\nit is illustrate by cicle \\n'"
      ]
     },
     "execution_count": 59,
     "metadata": {},
     "output_type": "execute_result"
    }
   ],
   "source": [
    "'''\n",
    "venn diagram are used to represent all posible relation between set\n",
    "it is illustrate by cicle \n",
    "'''"
   ]
  },
  {
   "cell_type": "code",
   "execution_count": 60,
   "id": "aa72022c-e383-4458-9c0a-73f6a6c140e0",
   "metadata": {},
   "outputs": [
    {
     "data": {
      "text/plain": [
       "'\\nQ7. For the two given sets A = (2,3,4,5,6,7) & B = (0,2,6,8,10). Find:\\n(i) A intersection B\\n(ii) A ⋃ B\\n\\n\\n'"
      ]
     },
     "execution_count": 60,
     "metadata": {},
     "output_type": "execute_result"
    }
   ],
   "source": [
    "'''\n",
    "Q7. For the two given sets A = (2,3,4,5,6,7) & B = (0,2,6,8,10). Find:\n",
    "(i) A intersection B\n",
    "(ii) A ⋃ B\n",
    "\n",
    "\n",
    "'''"
   ]
  },
  {
   "cell_type": "code",
   "execution_count": 61,
   "id": "3f602f62-f065-4aa7-be68-e71300d5fe31",
   "metadata": {},
   "outputs": [
    {
     "data": {
      "text/plain": [
       "'\\n A ⋃ B={0,1,2,3,4,5,6,7,8,10}\\n (i) A intersection  B ={2,6}\\n'"
      ]
     },
     "execution_count": 61,
     "metadata": {},
     "output_type": "execute_result"
    }
   ],
   "source": [
    "'''\n",
    " A ⋃ B={0,1,2,3,4,5,6,7,8,10}\n",
    " (i) A intersection  B ={2,6}\n",
    "'''"
   ]
  },
  {
   "cell_type": "code",
   "execution_count": 62,
   "id": "bf307d2a-aac4-4942-9516-a139fcac07bd",
   "metadata": {},
   "outputs": [
    {
     "data": {
      "text/plain": [
       "'\\nQ8. What do you understand about skewness in data?\\n'"
      ]
     },
     "execution_count": 62,
     "metadata": {},
     "output_type": "execute_result"
    }
   ],
   "source": [
    "'''\n",
    "Q8. What do you understand about skewness in data?\n",
    "'''"
   ]
  },
  {
   "cell_type": "code",
   "execution_count": 63,
   "id": "c8a1363d-f001-45bb-86e2-efd7ac29a44c",
   "metadata": {},
   "outputs": [
    {
     "data": {
      "text/plain": [
       "'\\nskewness isthe measurement of the distortion of symmetrical distribution or asymmmetry in data set .\\nskewness is demonstrated on the bell curve when data point are not distributed in symmetrically to left and right \\nside of the median on the bell\\n'"
      ]
     },
     "execution_count": 63,
     "metadata": {},
     "output_type": "execute_result"
    }
   ],
   "source": [
    "'''\n",
    "skewness isthe measurement of the distortion of symmetrical distribution or asymmmetry in data set .\n",
    "skewness is demonstrated on the bell curve when data point are not distributed in symmetrically to left and right \n",
    "side of the median on the bell\n",
    "'''"
   ]
  },
  {
   "cell_type": "code",
   "execution_count": 64,
   "id": "889040b5-6330-463e-8c2d-0a4ba4c74c4a",
   "metadata": {},
   "outputs": [
    {
     "data": {
      "text/plain": [
       "'\\nQ9. If a data is right skewed then what will be the position of median with respect to mean?\\n'"
      ]
     },
     "execution_count": 64,
     "metadata": {},
     "output_type": "execute_result"
    }
   ],
   "source": [
    "'''\n",
    "Q9. If a data is right skewed then what will be the position of median with respect to mean?\n",
    "'''"
   ]
  },
  {
   "cell_type": "code",
   "execution_count": 65,
   "id": "b2f64ddb-c362-4e9e-ae99-021240bcd46d",
   "metadata": {},
   "outputs": [
    {
     "data": {
      "text/plain": [
       "'\\nmean is greater tha median it means median is smaller than mean in right skwed\\n'"
      ]
     },
     "execution_count": 65,
     "metadata": {},
     "output_type": "execute_result"
    }
   ],
   "source": [
    "'''\n",
    "mean is greater tha median it means median is smaller than mean in right skwed\n",
    "'''"
   ]
  },
  {
   "cell_type": "code",
   "execution_count": 66,
   "id": "effedf6b-42fe-43f8-86bf-fb0d1735212d",
   "metadata": {},
   "outputs": [
    {
     "data": {
      "text/plain": [
       "'\\nQ10. Explain the difference between covariance and correlation. How are these measures used in\\nstatistical analysis?\\n'"
      ]
     },
     "execution_count": 66,
     "metadata": {},
     "output_type": "execute_result"
    }
   ],
   "source": [
    "'''\n",
    "Q10. Explain the difference between covariance and correlation. How are these measures used in\n",
    "statistical analysis?\n",
    "'''"
   ]
  },
  {
   "cell_type": "code",
   "execution_count": 67,
   "id": "f19cf05e-17f6-42c7-8c7d-e13919def66d",
   "metadata": {},
   "outputs": [
    {
     "data": {
      "text/plain": [
       "'\\ncovariance is the statistical term that refer to a systematic relationship between two  randam variable in wich a change in the other reflect a change in one variable .\\nthe covariance value can range from -infinity to positive  infinity nagative value indicate negative relation and positive value indicate positive relationship\\ncovariance can be measured by:\\ncovariance (x,y)= 1/n(summision(x-mean x)(y-mean y))\\n////\\ncorrelation \\ncorrelation is a measure that determine the degree to which two or more random variable move in squence \\n.when an equivalent movement of another variable reciprocates the movement of one variable in some way or \\nanother during the study of two variable .\\nmeasure by  correalation (x,y)= cov(x,y)/((sqrt var(x))(squart(var(y))))\\n'"
      ]
     },
     "execution_count": 67,
     "metadata": {},
     "output_type": "execute_result"
    }
   ],
   "source": [
    "'''\n",
    "covariance is the statistical term that refer to a systematic relationship between two  randam variable in wich a change in the other reflect a change in one variable .\n",
    "the covariance value can range from -infinity to positive  infinity nagative value indicate negative relation and positive value indicate positive relationship\n",
    "covariance can be measured by:\n",
    "covariance (x,y)= 1/n(summision(x-mean x)(y-mean y))\n",
    "////\n",
    "correlation \n",
    "correlation is a measure that determine the degree to which two or more random variable move in squence \n",
    ".when an equivalent movement of another variable reciprocates the movement of one variable in some way or \n",
    "another during the study of two variable .\n",
    "measure by  correalation (x,y)= cov(x,y)/((sqrt var(x))(squart(var(y))))\n",
    "'''"
   ]
  },
  {
   "cell_type": "code",
   "execution_count": 68,
   "id": "19713375-df4d-4e12-8cb4-dffad93251a6",
   "metadata": {},
   "outputs": [
    {
     "data": {
      "text/plain": [
       "'\\nQ11. What is the formula for calculating the sample mean? Provide an example calculation for a\\ndataset.\\n'"
      ]
     },
     "execution_count": 68,
     "metadata": {},
     "output_type": "execute_result"
    }
   ],
   "source": [
    "'''\n",
    "Q11. What is the formula for calculating the sample mean? Provide an example calculation for a\n",
    "dataset.\n",
    "'''"
   ]
  },
  {
   "cell_type": "code",
   "execution_count": 69,
   "id": "7907f13d-0d18-486c-96a5-2533d60feaad",
   "metadata": {},
   "outputs": [
    {
     "data": {
      "text/plain": [
       "mean    2.833333\n",
       "dtype: float64"
      ]
     },
     "execution_count": 69,
     "metadata": {},
     "output_type": "execute_result"
    }
   ],
   "source": [
    "\"\"\"\n",
    "formula:\n",
    "mean = sum of all term is divided by total number of term \n",
    "for example  x=[1,2,3,4,5]\n",
    "it mean  =(1+2+3+4+5)/5\n",
    "\n",
    "\"\"\"\n",
    "import pandas as pd\n",
    "d=[1,2,2,3,4,5]\n",
    "df= pd.DataFrame(d,columns=[\"mean\"])\n",
    "df.mean()"
   ]
  },
  {
   "cell_type": "code",
   "execution_count": 70,
   "id": "f93569bc-0edf-4eb7-aa5d-6ab2981d8255",
   "metadata": {},
   "outputs": [
    {
     "data": {
      "text/plain": [
       "'\\nQ12. For a normal distribution data what is the relationship between its measure of central tendency?\\n'"
      ]
     },
     "execution_count": 70,
     "metadata": {},
     "output_type": "execute_result"
    }
   ],
   "source": [
    "'''\n",
    "Q12. For a normal distribution data what is the relationship between its measure of central tendency?\n",
    "'''"
   ]
  },
  {
   "cell_type": "code",
   "execution_count": 71,
   "id": "f4940b35-683b-444a-b40d-ad829aae89bd",
   "metadata": {},
   "outputs": [
    {
     "data": {
      "text/plain": [
       "'\\nnormal  distribution, the Mean, Median, and Mode are all the same.\\nit is also like a symerically bell curve\\n'"
      ]
     },
     "execution_count": 71,
     "metadata": {},
     "output_type": "execute_result"
    }
   ],
   "source": [
    "'''\n",
    "normal  distribution, the Mean, Median, and Mode are all the same.\n",
    "it is also like a symerically bell curve\n",
    "'''"
   ]
  },
  {
   "cell_type": "code",
   "execution_count": 72,
   "id": "a6c14a5d-4162-414e-b992-565bc72d150e",
   "metadata": {},
   "outputs": [
    {
     "data": {
      "text/plain": [
       "'\\nQ13. How is covariance different from correlation?\\n'"
      ]
     },
     "execution_count": 72,
     "metadata": {},
     "output_type": "execute_result"
    }
   ],
   "source": [
    "'''\n",
    "Q13. How is covariance different from correlation?\n",
    "'''"
   ]
  },
  {
   "cell_type": "code",
   "execution_count": 73,
   "id": "34ab5da8-efe9-4c69-b2e4-3e5dcbf6e2af",
   "metadata": {},
   "outputs": [
    {
     "data": {
      "text/plain": [
       "'\\nCovariance and correlation are two mathematical concepts used in statistics. Both terms are used to\\ndescribe how two variables relate to each other. Covariance is a measure of how two variables change \\ntogether. The terms covariance vs correlation is very similar to each other in probability theory and \\nstatistics. Both the terms describe the extent to which a random variable or a set of random variables \\ncan deviate from the expected value.\\n\\n\\n'"
      ]
     },
     "execution_count": 73,
     "metadata": {},
     "output_type": "execute_result"
    }
   ],
   "source": [
    "'''\n",
    "Covariance and correlation are two mathematical concepts used in statistics. Both terms are used to\n",
    "describe how two variables relate to each other. Covariance is a measure of how two variables change \n",
    "together. The terms covariance vs correlation is very similar to each other in probability theory and \n",
    "statistics. Both the terms describe the extent to which a random variable or a set of random variables \n",
    "can deviate from the expected value.\n",
    "\n",
    "\n",
    "'''"
   ]
  },
  {
   "cell_type": "code",
   "execution_count": 74,
   "id": "eaa67506-43d6-4fab-9a4e-8a31fe8a64e6",
   "metadata": {},
   "outputs": [
    {
     "data": {
      "text/plain": [
       "'\\nQ14. How do outliers affect measures of central tendency and dispersion? Provide an example.\\n'"
      ]
     },
     "execution_count": 74,
     "metadata": {},
     "output_type": "execute_result"
    }
   ],
   "source": [
    "'''\n",
    "Q14. How do outliers affect measures of central tendency and dispersion? Provide an example.\n",
    "'''"
   ]
  },
  {
   "cell_type": "code",
   "execution_count": 75,
   "id": "6d69b123-1d7b-4a6c-ac79-fc1fbee3ac68",
   "metadata": {},
   "outputs": [],
   "source": [
    "'''\n",
    "When a outlier is present it can effect the shape of the graph, if we have outliers to the right of the \n",
    "graph. These outliers are causing the mean to increase, but if we have outliers to the left of the graph \n",
    "these outliers are dragging down the mean. This causes a conflict because the mean no longer provides a \n",
    "good representation of the data, alternatively we would much rather use the median. The median on the \n",
    "other hand is less likely to be affect by outliers.\n",
    "for example :\n",
    "'''\n",
    "d=[1,2,3,4,5]\n",
    "e=[1,2,3,4,5,105]\n",
    "df=pd.DataFrame(d,columns=[' without outlier'])\n",
    "df1=pd.DataFrame(e,columns=[' with outlier'])"
   ]
  },
  {
   "cell_type": "code",
   "execution_count": 76,
   "id": "106690ff-6068-4c2e-ad06-57181853d880",
   "metadata": {},
   "outputs": [
    {
     "data": {
      "text/plain": [
       " without outlier    3.0\n",
       "dtype: float64"
      ]
     },
     "execution_count": 76,
     "metadata": {},
     "output_type": "execute_result"
    }
   ],
   "source": [
    "df.mean()"
   ]
  },
  {
   "cell_type": "code",
   "execution_count": 77,
   "id": "1e02e592-61c7-4032-9f37-76bb746fae2f",
   "metadata": {},
   "outputs": [
    {
     "data": {
      "text/plain": [
       " without outlier    3.0\n",
       "dtype: float64"
      ]
     },
     "execution_count": 77,
     "metadata": {},
     "output_type": "execute_result"
    }
   ],
   "source": [
    "df.median()"
   ]
  },
  {
   "cell_type": "code",
   "execution_count": 78,
   "id": "633dbc50-e7e4-424a-a479-a6a55a8c1728",
   "metadata": {},
   "outputs": [
    {
     "data": {
      "text/plain": [
       " with outlier    20.0\n",
       "dtype: float64"
      ]
     },
     "execution_count": 78,
     "metadata": {},
     "output_type": "execute_result"
    }
   ],
   "source": [
    "df1.mean()"
   ]
  },
  {
   "cell_type": "code",
   "execution_count": 79,
   "id": "a5749d6d-7b28-4448-9860-f4890d30e4f6",
   "metadata": {},
   "outputs": [
    {
     "data": {
      "text/plain": [
       " with outlier    3.5\n",
       "dtype: float64"
      ]
     },
     "execution_count": 79,
     "metadata": {},
     "output_type": "execute_result"
    }
   ],
   "source": [
    "df1.median()"
   ]
  },
  {
   "cell_type": "code",
   "execution_count": null,
   "id": "d1c3fc1a-4b9b-4507-8f2b-5470f55b9af2",
   "metadata": {},
   "outputs": [],
   "source": []
  },
  {
   "cell_type": "code",
   "execution_count": null,
   "id": "c1423f14-4cc3-4a3f-baaa-3b5bbf92ac98",
   "metadata": {},
   "outputs": [],
   "source": []
  },
  {
   "cell_type": "code",
   "execution_count": null,
   "id": "0d0d9efe-1ac3-4a09-8fd2-812fd6e020b5",
   "metadata": {},
   "outputs": [],
   "source": []
  },
  {
   "cell_type": "code",
   "execution_count": null,
   "id": "ed63a5f8-32de-447b-b229-3224a994f6b5",
   "metadata": {},
   "outputs": [],
   "source": []
  }
 ],
 "metadata": {
  "kernelspec": {
   "display_name": "Python 3 (ipykernel)",
   "language": "python",
   "name": "python3"
  },
  "language_info": {
   "codemirror_mode": {
    "name": "ipython",
    "version": 3
   },
   "file_extension": ".py",
   "mimetype": "text/x-python",
   "name": "python",
   "nbconvert_exporter": "python",
   "pygments_lexer": "ipython3",
   "version": "3.10.8"
  }
 },
 "nbformat": 4,
 "nbformat_minor": 5
}
